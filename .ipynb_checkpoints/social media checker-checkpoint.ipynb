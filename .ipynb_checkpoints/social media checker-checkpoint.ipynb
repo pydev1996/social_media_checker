{
 "cells": [
  {
   "cell_type": "code",
   "execution_count": 16,
   "id": "09833f01",
   "metadata": {},
   "outputs": [
    {
     "name": "stdout",
     "output_type": "stream",
     "text": [
      "{'id': '1067936370841498', 'name': 'Naveen Chikile'}\n"
     ]
    }
   ],
   "source": [
    "import requests\n",
    "\n",
    "access_token = \"EAAJdnmQU5u8BAENXVKWwY9SupjLNJI39hV4iriwjycRA09LY0Ah76Mrvqu0ZBrKlQGfaVi2a1J4TxZBSCnpjuumH4PW7cv7ZBMwE0qdjPRu8OJTUQLu0Fs4VvJ2QqrbN2qYfhne0MWLeM2oNpbMzMp8S5VTf7l6hQjvjVl4DkUBttGdQeFHCq5aQcCWPOg2GQ4R4ZCt5VhtURtQ78tfLcge4QbVtydDaq6pJWEroXtTJq9qBZCyJZC\"\n",
    "user_id = \"1067936370841498\"\n",
    "\n",
    "# Make a request to the Facebook Graph API to get the user's public profile information\n",
    "response = requests.get(\n",
    "    f\"https://graph.facebook.com/{user_id}\",\n",
    "    params={\n",
    "        \"access_token\": access_token,\n",
    "        \"fields\": \"id,name,email\"\n",
    "    }\n",
    ")\n",
    "\n",
    "# Check if the request was successful\n",
    "if response.status_code == 200:\n",
    "    user_data = response.json()\n",
    "    print(user_data)\n",
    "else:\n",
    "    print(f\"Request failed with status code: {response.status_code}\")\n"
   ]
  },
  {
   "cell_type": "code",
   "execution_count": null,
   "id": "655ba24d",
   "metadata": {},
   "outputs": [],
   "source": []
  }
 ],
 "metadata": {
  "kernelspec": {
   "display_name": "Python 3 (ipykernel)",
   "language": "python",
   "name": "python3"
  },
  "language_info": {
   "codemirror_mode": {
    "name": "ipython",
    "version": 3
   },
   "file_extension": ".py",
   "mimetype": "text/x-python",
   "name": "python",
   "nbconvert_exporter": "python",
   "pygments_lexer": "ipython3",
   "version": "3.9.13"
  }
 },
 "nbformat": 4,
 "nbformat_minor": 5
}
